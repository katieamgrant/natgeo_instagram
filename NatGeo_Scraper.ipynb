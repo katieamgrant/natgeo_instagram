{
 "cells": [
  {
   "cell_type": "markdown",
   "metadata": {},
   "source": [
    "**Scrape data from @natgeo Instagram**"
   ]
  },
  {
   "cell_type": "code",
   "execution_count": null,
   "metadata": {},
   "outputs": [],
   "source": [
    "# Enter the following in the command prompt:\n",
    "# instagram-scraper natgeo -m 2 --comment -t image --media-metadata\n",
    "# natgeo -> username of account to scrape\n",
    "# -m 2 -> scrape 2 images\n",
    "# -t image -> scrape only images, no videos or stories"
   ]
  },
  {
   "cell_type": "code",
   "execution_count": null,
   "metadata": {},
   "outputs": [],
   "source": [
    "import json\n",
    "\n",
    "# read json file with UTF-8 encoding\n",
    "with open(\"natgeo.json\", \"r\", encoding='utf8') as read_file:\n",
    "    data = json.load(read_file) "
   ]
  },
  {
   "cell_type": "code",
   "execution_count": null,
   "metadata": {},
   "outputs": [],
   "source": [
    "# Check that data is loaded correctly\n",
    "for p in data['GraphImages']: # iterate through all images\n",
    "    print('TypeName: ' + p['__typename']) # get image name\n",
    "    print('Likes:', p['edge_media_preview_like']['count']) # number of likes\n",
    "    print('Comments: ', p['edge_media_to_comment']['count']) # number of comments\n",
    "    print('Caption: ', p['edge_media_to_caption']['edges'][0]['node']['text']) # caption\n",
    "    print('URL: ', p['urls'][0]) # image url (if multiple images in one post - gets url of first image only)"
   ]
  },
  {
   "cell_type": "code",
   "execution_count": null,
   "metadata": {},
   "outputs": [],
   "source": [
    "image_name = []\n",
    "likes = []\n",
    "comments = []\n",
    "captions = []\n",
    "urls = []\n",
    "\n",
    "for p in data['GraphImages']: # iterate through all images\n",
    "    image_name.append(p['__typename']) # get image name\n",
    "    likes.append(p['edge_media_preview_like']['count']) # number of likes\n",
    "    comments.append(p['edge_media_to_comment']['count']) # number of comments\n",
    "    captions.append(p['edge_media_to_caption']['edges'][0]['node']['text']) # caption\n",
    "    urls.append(p['urls'][0]) # image url (if multiple images in one post - gets url of first image only)"
   ]
  },
  {
   "cell_type": "code",
   "execution_count": null,
   "metadata": {},
   "outputs": [],
   "source": [
    "import pandas as pd\n",
    "\n",
    "# Combine all image metadata into single dataframe\n",
    "all_data = pd.DataFrame({'image_name':image_name,'likes':likes,'comments':comments,'captions':captions,'url':urls})"
   ]
  },
  {
   "cell_type": "code",
   "execution_count": null,
   "metadata": {},
   "outputs": [],
   "source": [
    "# Find all posts that contain a video\n",
    "index_videos = all_data[all_data['image_name'] == 'GraphVideo'].index\n",
    "# Delete these row indices from dataframe\n",
    "image_data = all_data.drop(index_videos).reset_index()"
   ]
  },
  {
   "cell_type": "markdown",
   "metadata": {},
   "source": [
    "**IBM Watson Visual Recognition**"
   ]
  },
  {
   "cell_type": "code",
   "execution_count": null,
   "metadata": {},
   "outputs": [],
   "source": [
    "pip install --upgrade \"watson-developer-cloud>=2.4.1\""
   ]
  },
  {
   "cell_type": "code",
   "execution_count": null,
   "metadata": {},
   "outputs": [],
   "source": [
    "from ibm_watson import VisualRecognitionV3\n",
    "from ibm_cloud_sdk_core.authenticators import IAMAuthenticator\n",
    "\n",
    "authenticator = IAMAuthenticator('{apikey}') # enter authentication key\n",
    "\n",
    "labels = []\n",
    "for url in image_data['url']: # iterate through all images in dataframe\n",
    "    visual_recognition = VisualRecognitionV3(\n",
    "    version='{version}', # enter software version\n",
    "    authenticator=authenticator\n",
    "    )\n",
    "\n",
    "    visual_recognition.set_service_url('{url}') # enter service url\n",
    "    classes_result = visual_recognition.classify(url=url).get_result() # run image through visual recognition\n",
    "    \n",
    "    classes = []\n",
    "    for dic in classes_result['images'][0]['classifiers'][0]['classes']:\n",
    "        classes.append(dic['class']) # get image labels\n",
    "    labels.append(classes) # add labels to list"
   ]
  },
  {
   "cell_type": "code",
   "execution_count": null,
   "metadata": {},
   "outputs": [],
   "source": [
    "image_data['labels'] = labels # create column in dataframe for image labels"
   ]
  },
  {
   "cell_type": "code",
   "execution_count": null,
   "metadata": {},
   "outputs": [],
   "source": [
    "image_data.to_csv('images_labeled.csv', index=False) # Save image data and labels to csv file"
   ]
  }
 ],
 "metadata": {
  "kernelspec": {
   "display_name": "Python 3",
   "language": "python",
   "name": "python3"
  },
  "language_info": {
   "codemirror_mode": {
    "name": "ipython",
    "version": 3
   },
   "file_extension": ".py",
   "mimetype": "text/x-python",
   "name": "python",
   "nbconvert_exporter": "python",
   "pygments_lexer": "ipython3",
   "version": "3.6.8"
  }
 },
 "nbformat": 4,
 "nbformat_minor": 2
}
